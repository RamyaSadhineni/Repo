{
  "nbformat": 4,
  "nbformat_minor": 0,
  "metadata": {
    "colab": {
      "provenance": []
    },
    "kernelspec": {
      "name": "python3",
      "display_name": "Python 3"
    },
    "language_info": {
      "name": "python"
    }
  },
  "cells": [
    {
      "cell_type": "code",
      "source": [],
      "metadata": {
        "id": "4odfLMfcG1RU"
      },
      "execution_count": null,
      "outputs": []
    },
    {
      "cell_type": "code",
      "source": [
        "import numpy as np\n",
        "\n",
        "# Step 1: Create a random vector of size 15 with integers in the range 1-20\n",
        "random_vector = np.random.randint(1, 21, size=15)\n",
        "\n",
        "# Step 2: Reshape the array to 3 by 5\n",
        "reshaped_array = random_vector.reshape(3, 5)\n",
        "\n",
        "# Step 3: Print the array shape\n",
        "array_shape = reshaped_array.shape\n",
        "print(\"Shape of the reshaped array:\", array_shape)\n",
        "\n",
        "# Step 4: Replace the maximum value in each row with 0\n",
        "max_replaced_array = reshaped_array.copy()\n",
        "for row in max_replaced_array:\n",
        "    row[row == row.max()] = 0\n",
        "\n",
        "print(\"Array after replacing the max value in each row with 0:\")\n",
        "print(max_replaced_array)\n",
        "\n",
        "# Step 5: Create a 2-dimensional array of size 4 x 3 with 4-byte integer elements\n",
        "array_4x3 = np.zeros((4, 3), dtype=np.int32)\n",
        "\n",
        "# Print the 4x3 array\n",
        "print(\"4x3 array:\")\n",
        "print(array_4x3)\n",
        "\n",
        "# Print the shape, type, and data type of the 4x3 array\n",
        "print(\"Shape of 4x3 array:\", array_4x3.shape)\n",
        "print(\"Type of 4x3 array:\", type(array_4x3))\n",
        "print(\"Data type of 4x3 array:\", array_4x3.dtype)\n"
      ],
      "metadata": {
        "colab": {
          "base_uri": "https://localhost:8080/"
        },
        "id": "u3FBy6hQGwZ_",
        "outputId": "1259774a-c261-400b-973b-cc1257bbe3e5"
      },
      "execution_count": 2,
      "outputs": [
        {
          "output_type": "stream",
          "name": "stdout",
          "text": [
            "Shape of the reshaped array: (3, 5)\n",
            "Array after replacing the max value in each row with 0:\n",
            "[[ 9  9  0  6  8]\n",
            " [ 7 13  0  2 12]\n",
            " [ 0  4 12 13  9]]\n",
            "4x3 array:\n",
            "[[0 0 0]\n",
            " [0 0 0]\n",
            " [0 0 0]\n",
            " [0 0 0]]\n",
            "Shape of 4x3 array: (4, 3)\n",
            "Type of 4x3 array: <class 'numpy.ndarray'>\n",
            "Data type of 4x3 array: int32\n"
          ]
        }
      ]
    },
    {
      "cell_type": "code",
      "source": [
        "import numpy as np\n",
        "\n",
        "# Define the square array\n",
        "square_array = np.array([[3, -2], [1, 0]])\n",
        "\n",
        "# Compute the eigenvalues and right eigenvectors\n",
        "eigenvalues, eigenvectors = np.linalg.eig(square_array)\n",
        "\n",
        "# Print the eigenvalues and right eigenvectors\n",
        "print(\"Eigenvalues:\")\n",
        "print(eigenvalues)\n",
        "\n",
        "print(\"Right Eigenvectors:\")\n",
        "print(eigenvectors)\n"
      ],
      "metadata": {
        "colab": {
          "base_uri": "https://localhost:8080/"
        },
        "id": "MkDGS5kBG3cU",
        "outputId": "b5dc06f7-b740-42db-9c17-e000d06e3a93"
      },
      "execution_count": 3,
      "outputs": [
        {
          "output_type": "stream",
          "name": "stdout",
          "text": [
            "Eigenvalues:\n",
            "[2. 1.]\n",
            "Right Eigenvectors:\n",
            "[[0.89442719 0.70710678]\n",
            " [0.4472136  0.70710678]]\n"
          ]
        }
      ]
    },
    {
      "cell_type": "code",
      "source": [
        "import numpy as np\n",
        "\n",
        "# Define the array\n",
        "array = np.array([[0, 1, 2], [3, 4, 5]])\n",
        "\n",
        "# Compute the sum of the diagonal elements\n",
        "diagonal_sum = np.trace(array)\n",
        "\n",
        "# Print the sum of the diagonal elements\n",
        "print(\"Sum of the diagonal elements:\", diagonal_sum)\n"
      ],
      "metadata": {
        "colab": {
          "base_uri": "https://localhost:8080/"
        },
        "id": "VvVcoR94G9J5",
        "outputId": "3004f802-9cef-4ce1-f12d-6acd8dd82bc1"
      },
      "execution_count": 4,
      "outputs": [
        {
          "output_type": "stream",
          "name": "stdout",
          "text": [
            "Sum of the diagonal elements: 4\n"
          ]
        }
      ]
    },
    {
      "cell_type": "code",
      "execution_count": 1,
      "metadata": {
        "colab": {
          "base_uri": "https://localhost:8080/"
        },
        "id": "HLkDcrxvGgaY",
        "outputId": "b634a4dd-505d-41c4-8b40-ff42906cb02a"
      },
      "outputs": [
        {
          "output_type": "stream",
          "name": "stdout",
          "text": [
            "Original array (3x2):\n",
            "[[1 2]\n",
            " [3 4]\n",
            " [5 6]]\n",
            "\n",
            "Reshaped array (2x3):\n",
            "[[1 2 3]\n",
            " [4 5 6]]\n"
          ]
        }
      ],
      "source": [
        "import numpy as np\n",
        "\n",
        "# Create the initial array with shape (3, 2)\n",
        "array_3x2 = np.array([[1, 2], [3, 4], [5, 6]])\n",
        "\n",
        "# Reshape the array to shape (2, 3)\n",
        "array_2x3 = array_3x2.reshape((2, 3))\n",
        "\n",
        "# Print the original and reshaped arrays\n",
        "print(\"Original array (3x2):\")\n",
        "print(array_3x2)\n",
        "print(\"\\nReshaped array (2x3):\")\n",
        "print(array_2x3)\n"
      ]
    }
  ]
}