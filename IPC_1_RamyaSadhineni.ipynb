{
  "nbformat": 4,
  "nbformat_minor": 0,
  "metadata": {
    "colab": {
      "provenance": []
    },
    "kernelspec": {
      "name": "python3",
      "display_name": "Python 3"
    },
    "language_info": {
      "name": "python"
    }
  },
  "cells": [
    {
      "cell_type": "code",
      "source": [
        "#1\n",
        "ages = [19, 22, 19, 24, 20, 25, 26, 24, 25, 24]\n",
        "\n",
        "\n",
        "sorted_ages = sorted(ages)\n",
        "min_age = sorted_ages[0]\n",
        "max_age = sorted_ages[-1]\n",
        "print(\"Min age:\", min_age)\n",
        "print(\"Max age:\", max_age)\n",
        "\n",
        "\n",
        "ages.append(min_age)\n",
        "ages.append(max_age)\n",
        "print(\"Updated list with min and max ages added:\", ages)\n",
        "\n",
        "\n",
        "n = len(ages)\n",
        "if n % 2 == 0:\n",
        "    median_age = (ages[n//2 - 1] + ages[n//2]) / 2\n",
        "else:\n",
        "    median_age = ages[n//2]\n",
        "print(\"Median age:\", median_age)\n",
        "\n",
        "\n",
        "average_age = sum(ages) / len(ages)\n",
        "print(\"Average age:\", average_age)\n",
        "\n",
        "\n",
        "age_range = max_age - min_age\n",
        "print(\"Age range:\", age_range)\n",
        "\n",
        "\n",
        "\n",
        "\n",
        "\n"
      ],
      "metadata": {
        "colab": {
          "base_uri": "https://localhost:8080/"
        },
        "id": "QRcqGyOD1l2-",
        "outputId": "2d9f2f00-0ed8-4524-e59e-45d181a686c9"
      },
      "execution_count": 15,
      "outputs": [
        {
          "output_type": "stream",
          "name": "stdout",
          "text": [
            "Min age: 19\n",
            "Max age: 26\n",
            "Updated list with min and max ages added: [19, 22, 19, 24, 20, 25, 26, 24, 25, 24, 19, 26]\n",
            "Median age: 25.5\n",
            "Average age: 22.75\n",
            "Age range: 7\n"
          ]
        }
      ]
    },
    {
      "cell_type": "code",
      "source": [
        "#2\n",
        "dog = {}\n",
        "dog['name'] = 'Buddy'\n",
        "dog['color'] = 'Brown'\n",
        "dog['breed'] = 'Labrador'\n",
        "dog['legs'] = 4\n",
        "dog['age'] = 3\n",
        "\n",
        "\n",
        "student = {\n",
        "    'first_name': 'John',\n",
        "    'last_name': 'Doe',\n",
        "    'gender': 'Male',\n",
        "    'age': 25,\n",
        "    'marital_status': 'Single',\n",
        "    'skills': ['Programming', 'Data Analysis'],\n",
        "    'country': 'USA',\n",
        "    'city': 'New York',\n",
        "    'address': '123 Main Street'\n",
        "}\n",
        "\n",
        "\n",
        "student_length = len(student)\n",
        "print(\"Length of student dictionary:\", student_length)\n",
        "\n",
        "\n",
        "skills_value = student['skills']\n",
        "print(\"Skills:\", skills_value)\n",
        "print(\"Data type of skills:\", type(skills_value))\n",
        "\n",
        "\n",
        "student['skills'].extend(['Communication', 'Problem Solving'])\n",
        "\n",
        "\n",
        "keys_list = list(student.keys())\n",
        "print(\"Keys:\", keys_list)\n",
        "\n",
        "\n",
        "values_list = list(student.values())\n",
        "print(\"Values:\", values_list)\n",
        "\n",
        "\n"
      ],
      "metadata": {
        "colab": {
          "base_uri": "https://localhost:8080/"
        },
        "id": "ExsKAhEU1XNm",
        "outputId": "c785a0dd-5468-44db-c9fd-31c0f2c15479"
      },
      "execution_count": 14,
      "outputs": [
        {
          "output_type": "stream",
          "name": "stdout",
          "text": [
            "Length of student dictionary: 9\n",
            "Skills: ['Programming', 'Data Analysis']\n",
            "Data type of skills: <class 'list'>\n",
            "Keys: ['first_name', 'last_name', 'gender', 'age', 'marital_status', 'skills', 'country', 'city', 'address']\n",
            "Values: ['John', 'Doe', 'Male', 25, 'Single', ['Programming', 'Data Analysis', 'Communication', 'Problem Solving'], 'USA', 'New York', '123 Main Street']\n"
          ]
        }
      ]
    },
    {
      "cell_type": "code",
      "execution_count": 1,
      "metadata": {
        "colab": {
          "base_uri": "https://localhost:8080/"
        },
        "id": "Dfai8jO9ybg0",
        "outputId": "1fb11d6a-e003-4ed1-ad5d-d026a2afe5ff"
      },
      "outputs": [
        {
          "output_type": "stream",
          "name": "stdout",
          "text": [
            "Number of siblings: 5\n",
            "Family members: ('John', 'Jane', 'Jack', 'Henry', 'Oliver', 'Alice', 'Emily')\n"
          ]
        }
      ],
      "source": [
        "# 3\n",
        "sisters = ('Alice', 'Emily')\n",
        "brothers = ('Jack', 'Henry', 'Oliver')\n",
        "\n",
        "\n",
        "siblings = brothers + sisters\n",
        "\n",
        "\n",
        "num_siblings = len(siblings)\n",
        "print(\"Number of siblings:\", num_siblings)\n",
        "\n",
        "\n",
        "father = 'John'\n",
        "mother = 'Jane'\n",
        "family_members = (father, mother) + siblings\n",
        "\n",
        "print(\"Family members:\", family_members)\n"
      ]
    },
    {
      "cell_type": "code",
      "source": [
        "#4\n",
        "it_companies = {'Facebook', 'Google', 'Microsoft', 'Apple', 'IBM', 'Oracle', 'Amazon'}\n",
        "A = {19, 22, 24, 20, 25, 26}\n",
        "B = {19, 22, 20, 25, 26, 24, 28, 27}\n",
        "age = [22, 19, 24, 25, 26, 24, 25, 24]\n",
        "\n",
        "\n",
        "length_it_companies = len(it_companies)\n",
        "print(\"Length of it_companies:\", length_it_companies)\n",
        "\n",
        "\n",
        "it_companies.add('Twitter')\n",
        "print(\"it_companies after adding 'Twitter':\", it_companies)\n",
        "\n",
        "\n",
        "it_companies.update(['LinkedIn', 'Snapchat', 'Netflix'])\n",
        "print(\"it_companies after adding multiple companies:\", it_companies)\n",
        "\n",
        "it_companies.remove('Snapchat')\n",
        "print(\"it_companies after removing 'Snapchat':\", it_companies)\n",
        "\n",
        "\n",
        "it_companies.discard('Twitter')\n",
        "\n",
        "\n",
        "union_AB = A.union(B)\n",
        "print(\"Union of A and B:\", union_AB)\n",
        "\n",
        "\n",
        "intersection_AB = A.intersection(B)\n",
        "print(\"Intersection of A and B:\", intersection_AB)\n",
        "\n",
        "\n",
        "subset_check = A.issubset(B)\n",
        "print(\"Is A subset of B?\", subset_check)\n",
        "\n",
        "\n",
        "disjoint_check = A.isdisjoint(B)\n",
        "print(\"Are A and B disjoint sets?\", disjoint_check)\n",
        "\n",
        "\n",
        "A_B = A.union(B)\n",
        "B_A = B.union(A)\n",
        "print(\"A union B:\", A_B)\n",
        "print(\"B union A:\", B_A)\n",
        "\n",
        "\n",
        "symmetric_difference_AB = A.symmetric_difference(B)\n",
        "print(\"Symmetric difference between A and B:\", symmetric_difference_AB)\n",
        "\n",
        "del it_companies\n",
        "del A\n",
        "del B\n",
        "\n",
        "\n",
        "age_set = set(age)\n",
        "print(\"Length of age list:\", len(age))\n",
        "print(\"Length of age set:\", len(age_set))\n"
      ],
      "metadata": {
        "colab": {
          "base_uri": "https://localhost:8080/"
        },
        "id": "DqcdqeAhzTq8",
        "outputId": "2ccdb283-b6ae-44e1-cc32-4a0c239752d1"
      },
      "execution_count": 2,
      "outputs": [
        {
          "output_type": "stream",
          "name": "stdout",
          "text": [
            "Length of it_companies: 7\n",
            "it_companies after adding 'Twitter': {'Microsoft', 'Google', 'Amazon', 'Apple', 'Facebook', 'Twitter', 'IBM', 'Oracle'}\n",
            "it_companies after adding multiple companies: {'Netflix', 'Microsoft', 'Apple', 'Facebook', 'LinkedIn', 'Oracle', 'Google', 'Amazon', 'Twitter', 'IBM', 'Snapchat'}\n",
            "it_companies after removing 'Snapchat': {'Netflix', 'Microsoft', 'Apple', 'Facebook', 'LinkedIn', 'Oracle', 'Google', 'Amazon', 'Twitter', 'IBM'}\n",
            "Union of A and B: {19, 20, 22, 24, 25, 26, 27, 28}\n",
            "Intersection of A and B: {19, 20, 22, 24, 25, 26}\n",
            "Is A subset of B? True\n",
            "Are A and B disjoint sets? False\n",
            "A union B: {19, 20, 22, 24, 25, 26, 27, 28}\n",
            "B union A: {19, 20, 22, 24, 25, 26, 27, 28}\n",
            "Symmetric difference between A and B: {27, 28}\n",
            "Length of age list: 8\n",
            "Length of age set: 5\n"
          ]
        }
      ]
    },
    {
      "cell_type": "code",
      "source": [
        "\n",
        "#5\n",
        "import math\n",
        "\n",
        "\n",
        "radius = 30\n",
        "\n",
        "\n",
        "area_of_circle = math.pi * radius ** 2\n",
        "\n",
        "\n",
        "circum_of_circle = 2 * math.pi * radius\n",
        "\n",
        "print(\"Area of the circle:\", area_of_circle)\n",
        "print(\"Circumference of the circle:\", circum_of_circle)\n",
        "\n",
        "\n",
        "user_radius = float(input(\"Enter the radius of the circle: \"))\n",
        "user_area_of_circle = math.pi * user_radius ** 2\n",
        "\n",
        "print(\"Area of the circle with user input radius:\", user_area_of_circle)\n"
      ],
      "metadata": {
        "colab": {
          "base_uri": "https://localhost:8080/"
        },
        "id": "3HFL2ZXhzrgC",
        "outputId": "14d97019-af70-4eee-b362-9334674cf17c"
      },
      "execution_count": 11,
      "outputs": [
        {
          "output_type": "stream",
          "name": "stdout",
          "text": [
            "Area of the circle: 2827.4333882308138\n",
            "Circumference of the circle: 188.49555921538757\n",
            "Enter the radius of the circle: 25\n",
            "Area of the circle with user input radius: 1963.4954084936207\n"
          ]
        }
      ]
    },
    {
      "cell_type": "code",
      "source": [
        "#6\n",
        "sentence = \"I am a teacher and I love to inspire and teach people\"\n",
        "\n",
        "\n",
        "words = sentence.split()\n",
        "\n",
        "\n",
        "unique_words = set(words)\n",
        "\n",
        "\n",
        "num_unique_words = len(unique_words)\n",
        "\n",
        "print(\"Number of unique words:\", num_unique_words)\n"
      ],
      "metadata": {
        "colab": {
          "base_uri": "https://localhost:8080/"
        },
        "id": "d8LNOfECz3hI",
        "outputId": "8bc5a098-3aef-446c-db45-3cca91af8d43"
      },
      "execution_count": 4,
      "outputs": [
        {
          "output_type": "stream",
          "name": "stdout",
          "text": [
            "Number of unique words: 10\n"
          ]
        }
      ]
    },
    {
      "cell_type": "code",
      "source": [
        "#7\n",
        "print(\"Name\\tAge\\tCountry\\tCity\")\n",
        "print(\"Asabeneh\\t250\\tFinland\\tHelsinki\")\n"
      ],
      "metadata": {
        "colab": {
          "base_uri": "https://localhost:8080/"
        },
        "id": "EFbUgp9B0PXj",
        "outputId": "7715ef7e-9cc1-408c-c914-088016229663"
      },
      "execution_count": 5,
      "outputs": [
        {
          "output_type": "stream",
          "name": "stdout",
          "text": [
            "Name\tAge\tCountry\tCity\n",
            "Asabeneh\t250\tFinland\tHelsinki\n"
          ]
        }
      ]
    },
    {
      "cell_type": "code",
      "source": [
        "#8\n",
        "radius = 10\n",
        "area = 3.14 * radius ** 2\n",
        "\n",
        "\n",
        "result = f\"The area of a circle with radius {radius} is {area} square meters.\"\n",
        "print(result)\n"
      ],
      "metadata": {
        "colab": {
          "base_uri": "https://localhost:8080/"
        },
        "id": "AfN_BrOS0Tex",
        "outputId": "f9009eea-8b9e-4170-f71b-1c90448d92bf"
      },
      "execution_count": 6,
      "outputs": [
        {
          "output_type": "stream",
          "name": "stdout",
          "text": [
            "The area of a circle with radius 10 is 314.0 square meters.\n"
          ]
        }
      ]
    },
    {
      "cell_type": "code",
      "source": [
        "# 9\n",
        "N = int(input(\"Enter the number of students: \"))\n",
        "\n",
        "\n",
        "weights_lbs = []\n",
        "\n",
        "\n",
        "for i in range(N):\n",
        "    weight_lbs = float(input(f\"Enter the weight of student {i+1} (in lbs.): \"))\n",
        "    weights_lbs.append(weight_lbs)\n",
        "\n",
        "weights_kg = []\n",
        "for weight_lbs in weights_lbs:\n",
        "    weight_kg = weight_lbs * 0.45359237  # 1 lb = 0.45359237 kg\n",
        "    weights_kg.append(weight_kg)\n",
        "\n",
        "print(\"Weights in kilograms:\", weights_kg)\n"
      ],
      "metadata": {
        "colab": {
          "base_uri": "https://localhost:8080/"
        },
        "id": "8e-pL7Fw068j",
        "outputId": "d07e330d-9f67-49e2-87bc-ebb3098f0272"
      },
      "execution_count": 16,
      "outputs": [
        {
          "output_type": "stream",
          "name": "stdout",
          "text": [
            "Enter the number of students: 4\n",
            "Enter the weight of student 1 (in lbs.): 150\n",
            "Enter the weight of student 2 (in lbs.): 155\n",
            "Enter the weight of student 3 (in lbs.): 145\n",
            "Enter the weight of student 4 (in lbs.): 148\n",
            "Weights in kilograms: [68.0388555, 70.30681735, 65.77089365, 67.13167076]\n"
          ]
        }
      ]
    }
  ]
}